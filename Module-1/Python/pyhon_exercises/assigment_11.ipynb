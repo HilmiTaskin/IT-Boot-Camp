# For Loop
def factorialF(numF):
    totalF = 1
    for i in range(1,numF+1):
        totalF *= i
    return totalF    
factorialF(8)     

#While loop

def factorialW(numW):
    totalW = 1
    i = 1
    while i <= numW:
        totalW *= i
        i += 1
    return totalW
factorialW(8)
