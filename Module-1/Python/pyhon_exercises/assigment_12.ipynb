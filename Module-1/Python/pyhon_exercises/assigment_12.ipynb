""" gcd and lcm calculator"""

def gcd(num1,num2):
    lower_num = min(num1, num2)
    common_divisors = []
    for i in range(1,lower_num+1):
        if num1 % i == 0 and num2 % i == 0:
            common_divisors.append(i)
    return max(common_divisors)   

"""GCD with list comprehension"""

def gcm(num1,num2):
    mini = min(num1,num2)
    listm = []
    [listm.append(i) for i in range(1,mini+1) if num1 % i == 0 and num2 % i ==0 ] 
    return max(listm)

"""LCM"""

def lcm(num1, num2):
    multiplication = num1 * num2
    num1_factors = set()
    num2_factors = set()
    for i in range(1,multiplication+1):
        if num1 * i <= multiplication:
            num1_factors.add(i*num1)
        else:
            break
    for x in range(1,multiplication+1):
        if num2 * x <= multiplication:
            num2_factors.add(x*num2)
        else:
            break
    return min(list(num1_factors.intersection(num2_factors)))

"""LCM with list comprehension"""
def lcm(num1, num2):
    multiplication = num1 * num2
    num1_factors = set()
    num2_factors = set()
    [num1_factors.add(i*num1) for i in range(1,multiplication+1) if num1 * i <= multiplication]
    [num2_factors.add(x*num2) for x in range(1,multiplication+1) if num2 * x <= multiplication]  
    return min(list(num1_factors.intersection(num2_factors)))
