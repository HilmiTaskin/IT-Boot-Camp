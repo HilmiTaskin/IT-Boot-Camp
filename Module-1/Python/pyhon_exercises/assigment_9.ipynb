"""Let's write a function that gives True if the letters in the string expression entered as text are all uppercase or all lowercase, \
and False if it consists of lowercase and uppercase letters. """

def upper_lower(text):
    text = input("Input the text")
    if text.lower() == text or text.upper() == text:
        return True
    else:
        return False
    
upper_lower("asdasd") 

print(büyük_kücük("Hello"))
print(büyük_kücük("HELLO"))
print(büyük_kücük("hello"))
print(büyük_kücük("heLlO"))

