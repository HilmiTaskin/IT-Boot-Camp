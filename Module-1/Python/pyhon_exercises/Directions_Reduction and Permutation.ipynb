{
 "cells": [
  {
   "cell_type": "markdown",
   "metadata": {},
   "source": [
    "# Problem :\n",
    "Given a collection of distinct integers, return all possible permutations.\n",
    "Example:\n",
    "Input:\n",
    "[1,2,3]\n",
    "Output:\n",
    "[\n",
    "  [1,2,3],\n",
    "  [1,3,2],\n",
    "  [2,1,3],\n",
    "  [2,3,1],\n",
    "  [3,1,2],\n",
    "  [3,2,1]\n",
    "]"
   ]
  },
  {
   "cell_type": "code",
   "execution_count": 1,
   "metadata": {},
   "outputs": [
    {
     "name": "stdout",
     "output_type": "stream",
     "text": [
      "6\n",
      "[[2, 1, 3], [1, 3, 2], [3, 2, 1], [3, 1, 2], [2, 3, 1], [1, 2, 3]]\n"
     ]
    }
   ],
   "source": [
    "liste = [1, 2, 3]\n",
    "result1= []\n",
    "perm = 1  \n",
    "# perm: başlangıçta liste tek elemanlı bile olsa 1 olasılık vardır.\n",
    "for i in range(1, len(liste)+1):\n",
    "    perm = i * perm  \n",
    "# perm : toplam kaç farklı şekilde olabileceğine ilişkin sayı.\n",
    "per = int(perm * 0.5)  \n",
    "# per: toplam değişik listelerin yarısı diğer yarısının tersi olarak yer almaktadır. \n",
    "# o yüzden diğer yarısını en son ekleyeceğim. \n",
    "for i in range(per):\n",
    "# []: toplam değişik listelerin yarısı kadar boş liste ekledim.\n",
    "    result1.append([])\n",
    "for i in range(len(liste)):\n",
    "               for j in result1:\n",
    "                    j.append(0) \n",
    "# [x, x, x, x....]üzerinde rahat çalışmak için, \n",
    "# her bir değişik listeye listedeki toplam eleman kadar boş bir değer atadım. \n",
    "k = 0\n",
    "for i in liste: \n",
    "# bu bölümde tüm listelere birer kaydırararak başlangıçtaki liste elemanlarımı ekledim.  \n",
    "    k += 1\n",
    "    for j in range(per):\n",
    "        if k < len(liste):\n",
    "            result1[j][k] = i\n",
    "            k += 1\n",
    "        else:\n",
    "            k = 0\n",
    "            result1[j][k] = i\n",
    "            k += 1\n",
    "result2 = []\n",
    "for i in result1: \n",
    "# tüm listelerin bir de tersini alıyorum\n",
    "    result2.append(i[::-1])\n",
    "result = result2 + result1 \n",
    "# tersini (perm/2 adet) , düzünü (perm/2 adet) topluyorum.)\n",
    "print(len(result), result, sep = \"\\n\")"
   ]
  },
  {
   "cell_type": "code",
   "execution_count": 26,
   "metadata": {},
   "outputs": [
    {
     "name": "stdout",
     "output_type": "stream",
     "text": [
      "[[3, 2, 1], [2, 3, 1], [2, 1, 3], [3, 1, 2], [1, 3, 2], [1, 2, 3]]\n",
      "6 possible permutations.\n"
     ]
    }
   ],
   "source": [
    "def per(numbers):\n",
    "    output = []\n",
    "    new_list = []\n",
    "    new_list.append(numbers[0])\n",
    "    output.append(new_list)\n",
    "    for i in numbers[1:]:\n",
    "        for j in range(len(output)):\n",
    "            for k in range(len(output[j])+ 1):\n",
    "                newest_list = output[j][:]\n",
    "                newest_list.insert(k, i)\n",
    "                output.append(newest_list)\n",
    "    for element in output[:]:\n",
    "            if len(element) < len(output[-1]):\n",
    "                output.remove(element)\n",
    "    print(output)\n",
    "    print(f\"{len(output)} possible permutations.\")\n",
    "numbers = [1, 2, 3]\n",
    "per(numbers)"
   ]
  },
  {
   "cell_type": "code",
   "execution_count": null,
   "metadata": {
    "scrolled": true
   },
   "outputs": [],
   "source": []
  },
  {
   "cell_type": "markdown",
   "metadata": {},
   "source": [
    "Given a common phrase, return False if any individual word in the phrase contains duplicate letters. Return True otherwise.\n",
    "\n",
    "Examples\n",
    "\n",
    "no_duplicate_letters(\"Fortune favours the bold.\") ➞ True\n",
    "\n",
    "no_duplicate_letters(\"You can lead a horse to water, but you can't make him drink.\") ➞ True\n",
    "\n",
    "no_duplicate_letters(\"Look before you leap.\") ➞ False\n",
    "\n",
    "Duplicate letters in \"Look\" and \"before\".\n",
    "\n",
    "no_duplicate_letters(\"An apple a day keeps the doctor away.\") ➞ False\n",
    "\n",
    "Duplicate letters in \"apple\", \"keeps\", \"doctor\", and \"away\"."
   ]
  },
  {
   "cell_type": "code",
   "execution_count": 9,
   "metadata": {
    "scrolled": true
   },
   "outputs": [
    {
     "data": {
      "text/plain": [
       "True"
      ]
     },
     "execution_count": 9,
     "metadata": {},
     "output_type": "execute_result"
    }
   ],
   "source": [
    "def no_duplicate_letters(phrase):\n",
    "    liste=phrase.lower().split()\n",
    "    sonuc=True\n",
    "    for words in liste:\n",
    "        for characters in words:\n",
    "            if characters.isalpha():\n",
    "                if words.count(characters)>1:\n",
    "                    sonuc= False\n",
    "    return sonuc\n",
    "no_duplicate_letters(\"Fortune favours the bold..\")"
   ]
  },
  {
   "cell_type": "code",
   "execution_count": null,
   "metadata": {},
   "outputs": [],
   "source": [
    "def dirReduc(liste):  #liste = [\"NORTH\", \"SOUTH\", \"SOUTH\", \"EAST\", \"WEST\", \"NORTH\", \"WEST\"]\n",
    "    dir_dict = {\"NORTH\":\"SOUTH\",\"SOUTH\":\"NORTH\",\"EAST\":\"WEST\",\"WEST\":\"EAST\"}\n",
    "    indexNo = 0\n",
    "    while "
   ]
  },
  {
   "cell_type": "code",
   "execution_count": null,
   "metadata": {},
   "outputs": [],
   "source": [
    "indexNo"
   ]
  },
  {
   "cell_type": "markdown",
   "metadata": {},
   "source": [
    "Once upon a time, on a way through the old wild mountainous west,…\n",
    "… a man was given directions to go from one point to another. The directions were \"NORTH\", \"SOUTH\", \"WEST\", \"EAST\". Clearly \"NORTH\" and \"SOUTH\" are opposite, \"WEST\" and \"EAST\" too.\n",
    "\n",
    "Going to one direction and coming back the opposite direction right away is a needless effort. Since this is the wild west, with dreadfull weather and not much water, it's important to save yourself some energy, otherwise you might die of thirst!\n",
    "\n",
    "How I crossed a mountainous desert the smart way.\n",
    "The directions given to the man are, for example, the following (depending on the language):\n",
    "\n",
    "[\"NORTH\", \"SOUTH\", \"SOUTH\", \"EAST\", \"WEST\", \"NORTH\", \"WEST\"].\n",
    "or\n",
    "{ \"NORTH\", \"SOUTH\", \"SOUTH\", \"EAST\", \"WEST\", \"NORTH\", \"WEST\" };\n",
    "or\n",
    "[North, South, South, East, West, North, West]\n",
    "You can immediatly see that going \"NORTH\" and immediately \"SOUTH\" is not reasonable, better stay to the same place! So the task is to give to the man a simplified version of the plan. A better plan in this case is simply:\n",
    "\n",
    "[\"WEST\"]\n",
    "or\n",
    "{ \"WEST\" }\n",
    "or\n",
    "[West]\n",
    "Other examples:\n",
    "In [\"NORTH\", \"SOUTH\", \"EAST\", \"WEST\"], the direction \"NORTH\" + \"SOUTH\" is going north and coming back right away.\n",
    "\n",
    "The path becomes [\"EAST\", \"WEST\"], now \"EAST\" and \"WEST\" annihilate each other, therefore, the final result is [] (nil in Clojure).\n",
    "\n",
    "In [\"NORTH\", \"EAST\", \"WEST\", \"SOUTH\", \"WEST\", \"WEST\"], \"NORTH\" and \"SOUTH\" are not directly opposite but they become directly opposite after the reduction of \"EAST\" and \"WEST\" so the whole path is reducible to [\"WEST\", \"WEST\"].\n",
    "\n",
    "Task\n",
    "Write a function dirReduc which will take an array of strings and returns an array of strings with the needless directions removed (W<->E or S<->N side by side).\n",
    "\n",
    "The Haskell version takes a list of directions with data Direction = North | East | West | South.\n",
    "The Clojure version returns nil when the path is reduced to nothing.\n",
    "The Rust version takes a slice of enum Direction {North, East, West, South}.\n",
    "See more examples in \"Sample Tests:\"\n",
    "Notes\n",
    "Not all paths can be made simpler. The path [\"NORTH\", \"WEST\", \"SOUTH\", \"EAST\"] is not reducible. \"NORTH\" and \"WEST\", \"WEST\" and \"SOUTH\", \"SOUTH\" and \"EAST\" are not directly opposite of each other and can't become such. Hence the result path is itself : [\"NORTH\", \"WEST\", \"SOUTH\", \"EAST\"]."
   ]
  },
  {
   "cell_type": "code",
   "execution_count": 35,
   "metadata": {},
   "outputs": [
    {
     "data": {
      "text/plain": [
       "['WEST']"
      ]
     },
     "execution_count": 35,
     "metadata": {},
     "output_type": "execute_result"
    }
   ],
   "source": [
    "def yon(l):\n",
    "    s={\"NORTH\":\"SOUTH\",\"SOUTH\":\"NORTH\",\"EAST\":\"WEST\",\"WEST\":\"EAST\"}\n",
    "    i=0 \n",
    "    while i<len(l)-1:\n",
    "        if s[l[i]]==l[i+1]:\n",
    "            del l[i:i+2]\n",
    "            i = 0\n",
    "\n",
    "        else:\n",
    "            i+=1\n",
    "    return l           \n",
    "        \n",
    "yon([\"NORTH\", \"SOUTH\", \"SOUTH\", \"EAST\", \"WEST\", \"NORTH\", \"WEST\"])"
   ]
  },
  {
   "cell_type": "code",
   "execution_count": 68,
   "metadata": {},
   "outputs": [
    {
     "data": {
      "text/plain": [
       "['WEST']"
      ]
     },
     "execution_count": 68,
     "metadata": {},
     "output_type": "execute_result"
    }
   ],
   "source": [
    " < len(liste)-1:\n",
    "        if dir_dict[liste[indexNo]] == liste[indexNo+1]:\n",
    "            del liste[indexNo:indexNo+2]\n",
    "            indexNo = 0\n",
    "        else:\n",
    "            indexNo += 1\n",
    "    return liste\n",
    "dirReduc([\"NORTH\", \"SOUTH\", \"SOUTH\", \"EAST\", \"WEST\", \"NORTH\", \"WEST\"])"
   ]
  },
  {
   "cell_type": "code",
   "execution_count": null,
   "metadata": {},
   "outputs": [],
   "source": []
  },
  {
   "cell_type": "code",
   "execution_count": null,
   "metadata": {},
   "outputs": [],
   "source": []
  },
  {
   "cell_type": "code",
   "execution_count": null,
   "metadata": {},
   "outputs": [],
   "source": []
  },
  {
   "cell_type": "code",
   "execution_count": null,
   "metadata": {},
   "outputs": [],
   "source": []
  },
  {
   "cell_type": "code",
   "execution_count": null,
   "metadata": {},
   "outputs": [],
   "source": []
  },
  {
   "cell_type": "code",
   "execution_count": null,
   "metadata": {},
   "outputs": [],
   "source": []
  },
  {
   "cell_type": "code",
   "execution_count": null,
   "metadata": {},
   "outputs": [],
   "source": []
  },
  {
   "cell_type": "code",
   "execution_count": null,
   "metadata": {},
   "outputs": [],
   "source": []
  },
  {
   "cell_type": "code",
   "execution_count": null,
   "metadata": {},
   "outputs": [],
   "source": []
  },
  {
   "cell_type": "code",
   "execution_count": null,
   "metadata": {},
   "outputs": [],
   "source": []
  },
  {
   "cell_type": "code",
   "execution_count": null,
   "metadata": {},
   "outputs": [],
   "source": []
  }
 ],
 "metadata": {
  "kernelspec": {
   "display_name": "Python 3",
   "language": "python",
   "name": "python3"
  },
  "language_info": {
   "codemirror_mode": {
    "name": "ipython",
    "version": 3
   },
   "file_extension": ".py",
   "mimetype": "text/x-python",
   "name": "python",
   "nbconvert_exporter": "python",
   "pygments_lexer": "ipython3",
   "version": "3.8.5"
  },
  "widgets": {
   "application/vnd.jupyter.widget-state+json": {
    "state": {},
    "version_major": 2,
    "version_minor": 0
   }
  }
 },
 "nbformat": 4,
 "nbformat_minor": 4
}
