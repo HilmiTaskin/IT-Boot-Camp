{
 "cells": [
  {
   "cell_type": "markdown",
   "metadata": {},
   "source": [
    "If the length of the text is odd, let's write a function that gives the middle character if the middle character is even"
   ]
  },
  {
   "cell_type": "code",
   "execution_count": 55,
   "metadata": {},
   "outputs": [
    {
     "name": "stdout",
     "output_type": "stream",
     "text": [
      "os\n",
      "d\n"
     ]
    }
   ],
   "source": [
    "def mid_cha(text):\n",
    "    if not len(text) % 2:\n",
    "        return text[len(text)//2 - 1 : len(text)//2 +1]\n",
    "    else:\n",
    "        return text[len(text)//2]  #// decreases 1 point, so word's mid index num (cause of starting from 0) == (3//2 =1) 0 1 2  \n",
    "print(mid_cha(\"Rose\"))     \n",
    "print(mid_cha(\"Odd\"))\n"
   ]
  },
  {
   "cell_type": "code",
   "execution_count": null,
   "metadata": {},
   "outputs": [],
   "source": []
  },
  {
   "cell_type": "markdown",
   "metadata": {},
   "source": [
    "Which power of the number Ax gives the result Bx? Let's write a function that answers the question."
   ]
  },
  {
   "cell_type": "code",
   "execution_count": 17,
   "metadata": {},
   "outputs": [
    {
     "data": {
      "text/plain": [
       "'2 power of 3 equals to 8'"
      ]
     },
     "execution_count": 17,
     "metadata": {},
     "output_type": "execute_result"
    }
   ],
   "source": [
    "def pow_find(A,B):\n",
    "    pows = 0\n",
    "    C = B\n",
    "    while B >= A:\n",
    "        B = B / A\n",
    "        pows += 1\n",
    "    return f\"{A} power to {pows} equals to {C}\"    \n",
    "pow_find(2,8)"
   ]
  },
  {
   "cell_type": "code",
   "execution_count": null,
   "metadata": {},
   "outputs": [],
   "source": []
  },
  {
   "cell_type": "code",
   "execution_count": null,
   "metadata": {},
   "outputs": [],
   "source": []
  },
  {
   "cell_type": "code",
   "execution_count": null,
   "metadata": {},
   "outputs": [],
   "source": []
  },
  {
   "cell_type": "code",
   "execution_count": null,
   "metadata": {},
   "outputs": [],
   "source": []
  },
  {
   "cell_type": "code",
   "execution_count": null,
   "metadata": {},
   "outputs": [],
   "source": []
  },
  {
   "cell_type": "code",
   "execution_count": null,
   "metadata": {},
   "outputs": [],
   "source": []
  }
 ],
 "metadata": {
  "kernelspec": {
   "display_name": "Python 3",
   "language": "python",
   "name": "python3"
  },
  "language_info": {
   "codemirror_mode": {
    "name": "ipython",
    "version": 3
   },
   "file_extension": ".py",
   "mimetype": "text/x-python",
   "name": "python",
   "nbconvert_exporter": "python",
   "pygments_lexer": "ipython3",
   "version": "3.8.5"
  }
 },
 "nbformat": 4,
 "nbformat_minor": 4
}
