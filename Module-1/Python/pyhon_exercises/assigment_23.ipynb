{
 "cells": [
  {
   "cell_type": "markdown",
   "metadata": {},
   "source": [
    "\n",
    "Task : Find out if the given word is \"comfortable words\" in relation to the ten-finger keyboard use.\n",
    "\n",
    "A comfortable word is a word which you can type always alternating the hand you type with (assuming you type using a Q-keyboard and use of the ten-fingers standard). The word will always be a string consisting of only letters from a to z. Write a program which returns True if it's a comfortable word or False otherwise.\n",
    "\n",
    "Examples\n",
    "\n",
    "Given word tester\n",
    "Desired Output (explanation)\n",
    "\n",
    "False (uses only left-hand fingers)* Given word polly\n",
    "Desired Output (explanation)\n",
    "\n",
    "False (uses only right-hand fingers)*\n",
    "\n",
    "Given word\n",
    "\n",
    "clarusway\n",
    "Desired Output (explanation)\n",
    "\n",
    "True (uses both hand fingers)*\n",
    "\n",
    "Note : Do a quick research on ten-fingers keyboard usage. (*) the explanation doesn't need to be in the output."
   ]
  },
  {
   "cell_type": "code",
   "execution_count": null,
   "metadata": {},
   "outputs": [],
   "source": [
    "left = set(\"qwertasdfgzxcvbQWERTASDFGZXCVB\")\n",
    "right = set(\"YUIOPLKJHNMpoiuyhjklmn\")\n",
    "cmfrt_wrd_check = set(input(\"Please Enter The Word: \") )\n",
    "print((left.intersection(word) != word ))\n",
    "    "
   ]
  },
  {
   "cell_type": "code",
   "execution_count": 144,
   "metadata": {},
   "outputs": [
    {
     "name": "stdout",
     "output_type": "stream",
     "text": [
      "qwem\n",
      "True\n"
     ]
    }
   ],
   "source": [
    "left=set(\"qazwsxedcrfvtbg\")\n",
    "right=set(\"yhnujmıkoölpşüçi\")\n",
    "word=set(input())\n",
    "print((left.intersection(word) != word and right.intersection(word)!=word) and (left.union(right)).intersection(word)==word )"
   ]
  },
  {
   "cell_type": "code",
   "execution_count": null,
   "metadata": {},
   "outputs": [],
   "source": []
  },
  {
   "cell_type": "code",
   "execution_count": null,
   "metadata": {},
   "outputs": [],
   "source": []
  },
  {
   "cell_type": "code",
   "execution_count": null,
   "metadata": {},
   "outputs": [],
   "source": []
  },
  {
   "cell_type": "code",
   "execution_count": null,
   "metadata": {},
   "outputs": [],
   "source": []
  },
  {
   "cell_type": "code",
   "execution_count": null,
   "metadata": {},
   "outputs": [],
   "source": []
  }
 ],
 "metadata": {
  "kernelspec": {
   "display_name": "Python 3",
   "language": "python",
   "name": "python3"
  },
  "language_info": {
   "codemirror_mode": {
    "name": "ipython",
    "version": 3
   },
   "file_extension": ".py",
   "mimetype": "text/x-python",
   "name": "python",
   "nbconvert_exporter": "python",
   "pygments_lexer": "ipython3",
   "version": "3.8.5"
  }
 },
 "nbformat": 4,
 "nbformat_minor": 4
}
