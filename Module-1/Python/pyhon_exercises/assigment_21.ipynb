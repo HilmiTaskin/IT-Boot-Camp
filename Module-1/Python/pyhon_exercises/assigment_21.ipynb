{
 "cells": [
  {
   "cell_type": "markdown",
   "metadata": {},
   "source": [
    "Let's write a function that multiplies each element in the list by its index and gives the sum."
   ]
  },
  {
   "cell_type": "code",
   "execution_count": 87,
   "metadata": {},
   "outputs": [
    {
     "name": "stdout",
     "output_type": "stream",
     "text": [
      "330\n"
     ]
    }
   ],
   "source": [
    "def multiple_sum(liste):\n",
    "    total = 0\n",
    "    for i in liste:\n",
    "        total += (i*liste.index(i))\n",
    "    return total \n",
    "print(multiple_sum([1,2,3,4,5,6,7,8,9,10]))\n",
    "\n",
    "        "
   ]
  },
  {
   "cell_type": "markdown",
   "metadata": {},
   "source": [
    "Let's write a function that finds the number of numbers and letters in a sentence."
   ]
  },
  {
   "cell_type": "code",
   "execution_count": 92,
   "metadata": {},
   "outputs": [
    {
     "data": {
      "text/plain": [
       "'There are 2 number and 25 characters in the sentence.'"
      ]
     },
     "execution_count": 92,
     "metadata": {},
     "output_type": "execute_result"
    }
   ],
   "source": [
    "def num_cha(sentence):\n",
    "    numbers = \"1234567890\"\n",
    "    chars = \"qwertyuiopasdfghjklzxcvbnmQWERTYUIOPASDFGHJKLZXCVBNM\"\n",
    "    total_nums = 0\n",
    "    total_chars = 0\n",
    "    for i in sentence:\n",
    "        if i in chars:\n",
    "            total_chars += 1\n",
    "        elif i in numbers:\n",
    "            total_nums += 1\n",
    "    return f\"There are {total_nums} number and {total_chars} characters in the sentence.\"\n",
    "num_cha(\"Granny, what big 32 teeth you have!\")    \n",
    "            "
   ]
  },
  {
   "cell_type": "code",
   "execution_count": 97,
   "metadata": {},
   "outputs": [
    {
     "data": {
      "text/plain": [
       "'Character: 25, Numbers: 2'"
      ]
     },
     "execution_count": 97,
     "metadata": {},
     "output_type": "execute_result"
    }
   ],
   "source": [
    "def num_cha(sentence):\n",
    "    nums=\"0123456789\"\n",
    "    c=0\n",
    "    n=0\n",
    "    for i in sentence:\n",
    "        if i.isalpha()==True:\n",
    "              c+=1\n",
    "        elif i in nums:\n",
    "            n+=1\n",
    "    return f\"Characters: {c}, Numbers: {n}\"\n",
    "\n",
    "num_cha(\"Granny, what big 32 teeth you have!\")"
   ]
  },
  {
   "cell_type": "markdown",
   "metadata": {},
   "source": [
    "Let's write a function that calculates the number of days of the month given the year."
   ]
  },
  {
   "cell_type": "code",
   "execution_count": 99,
   "metadata": {},
   "outputs": [
    {
     "name": "stdout",
     "output_type": "stream",
     "text": [
      "30\n",
      "28\n",
      "31\n"
     ]
    }
   ],
   "source": [
    "def day_calc(month,year):\n",
    "    if month == 2:\n",
    "        if year % 400 == 0:\n",
    "            return 29\n",
    "        elif year % 100 == 0:\n",
    "            return 28\n",
    "        elif year % 4 == 0:\n",
    "            return 29\n",
    "        else:\n",
    "            return 28\n",
    "    elif month == 1 or month == 3 or month == 5 or month == 7 or month == 8 or month == 10 or month == 12:\n",
    "        return 31\n",
    "    else:\n",
    "        return 30\n",
    "print(day_calc( 4, 654))\n",
    "print(day_calc( 2, 1737))\n",
    "print(day_calc( 1, 2021))\n",
    "    "
   ]
  },
  {
   "cell_type": "code",
   "execution_count": null,
   "metadata": {},
   "outputs": [],
   "source": []
  },
  {
   "cell_type": "code",
   "execution_count": null,
   "metadata": {},
   "outputs": [],
   "source": []
  },
  {
   "cell_type": "code",
   "execution_count": null,
   "metadata": {},
   "outputs": [],
   "source": []
  },
  {
   "cell_type": "code",
   "execution_count": null,
   "metadata": {},
   "outputs": [],
   "source": []
  },
  {
   "cell_type": "code",
   "execution_count": null,
   "metadata": {},
   "outputs": [],
   "source": []
  },
  {
   "cell_type": "code",
   "execution_count": null,
   "metadata": {},
   "outputs": [],
   "source": []
  },
  {
   "cell_type": "code",
   "execution_count": null,
   "metadata": {},
   "outputs": [],
   "source": []
  },
  {
   "cell_type": "code",
   "execution_count": null,
   "metadata": {},
   "outputs": [],
   "source": []
  },
  {
   "cell_type": "code",
   "execution_count": null,
   "metadata": {},
   "outputs": [],
   "source": []
  }
 ],
 "metadata": {
  "kernelspec": {
   "display_name": "Python 3",
   "language": "python",
   "name": "python3"
  },
  "language_info": {
   "codemirror_mode": {
    "name": "ipython",
    "version": 3
   },
   "file_extension": ".py",
   "mimetype": "text/x-python",
   "name": "python",
   "nbconvert_exporter": "python",
   "pygments_lexer": "ipython3",
   "version": "3.8.5"
  }
 },
 "nbformat": 4,
 "nbformat_minor": 4
}
