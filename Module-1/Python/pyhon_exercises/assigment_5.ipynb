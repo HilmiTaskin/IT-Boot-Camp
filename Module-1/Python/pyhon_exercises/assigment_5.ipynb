""" Write a simple program to check if it is leap year or not """

while True:
    leap_year = input("Please input the year: ")
    try:
        int_leap_year = int(leap_year)
    except:
        print("Please enter a four-digit year")
        continue
    if int_leap_year % 400 == 0:
        print(f"{int_leap_year} is a leap year.")
    elif int_leap_year % 100 == 0:
        print(f"{int_leap_year} is NOT a leap year.")
    elif int_leap_year % 4 == 0:
        print(f"{int_leap_year} is a leap year.")
    else:
        print(f"{int_leap_year} is NOT a leap year.")
    break 




