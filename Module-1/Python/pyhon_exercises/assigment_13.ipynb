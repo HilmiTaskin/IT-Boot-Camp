
"""Task : Find out the most frequent number and its frequency.\
Write a program that; \
Finds out the most frequent number in the given list. Calculates its frequency. Prints out the result such as : \
Example\
Given list\
numbers = [1, 3, 7, 4, 3, 0, 3, 6, 3]\
Output\
The most frequent number is 3 and it was 4 times repeated"""

numbers=[1, 3, 7, 4, 3, 0, 3, 6, 3]
a = max(numbers, key = numbers.count)
b = numbers.count(a)
print(f"The most frequent number is {a} and it was {b} times repeated.")

#----------------------------------------------------------------------
numbers=[1, 3, 7, 4, 3, 0, 3, 6, 3]
kac_kere=[]
for i in numbers:
  kac_kere.append(numbers.count(i))
if numbers.count(i)==max(kac_kere):
  print(f"The most frequent number is {i} and it was {max(kac_kere)} times repeated")
-----------------------------------------------------------------------------
numbers=list(map(int,input("Lütfen sayıları boşluk bırakarak giriniz: ").split()))
kac_kere=[]
for i in numbers:
  kac_kere.append(numbers.count(i))
if numbers.count(i)==max(kac_kere):
  print(f"The most frequent number is {i} and it was {max(kac_kere)} times repeated")
-----------------------------------------------------------------------------------------
numbers=[1, 3, 7, 4, 3, 0, 3, 6, 3]
a=sorted(numbers, key=numbers.count, reverse=True)
b=numbers.count(a[0])
print(f"The most frequent number is {a[0]} and it was {b} times repeated")
