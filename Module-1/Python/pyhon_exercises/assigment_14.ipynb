{
  "nbformat": 4,
  "nbformat_minor": 0,
  "metadata": {
    "colab": {
      "name": "assigment_14.ipynb",
      "provenance": [],
      "collapsed_sections": []
    },
    "kernelspec": {
      "name": "python3",
      "display_name": "Python 3"
    },
    "language_info": {
      "name": "python"
    }
  },
  "cells": [
    {
      "cell_type": "markdown",
      "metadata": {
        "id": "gl0I70CZIkkY"
      },
      "source": [
        "Task - 1 : You work for a manufacturer as a programmer and have been asked to calculate the total profit made on the sales of a product.\n",
        "You are given a dictionary (sales) containing the cost price per unit (in dollars), sell price per unit (in dollars), and the beginning inventory.\n",
        "Write a program to return the total profit made, rounded to the nearest dollar. \n",
        "Assume all of the inventory has been sold. \n",
        "The name and the keys of the dictionary are constant, so use them as they are.\n",
        "The example of the values (sell-cost value, inventory) and total profit :\n",
        "\n",
        "sales = { \"cost_value\": 31.87, \"sell_value\": 45.00, \"inventory\": 1000 }\n"
      ]
    },
    {
      "cell_type": "code",
      "metadata": {
        "colab": {
          "base_uri": "https://localhost:8080/"
        },
        "id": "BDEZiXCPIlgq",
        "outputId": "6975232c-830e-47a2-b255-8eb5b150412a"
      },
      "source": [
        "sales = {\n",
        "  \"cost_value\": 31.87,\n",
        "  \"sell_value\": 45.00,\n",
        "  \"inventory\": 1000\n",
        "}  \n",
        "total_profit=round((sales[\"sell_value\"]-sales[\"cost_value\"])*sales[\"inventory\"])\n",
        "print(total_profit)"
      ],
      "execution_count": 2,
      "outputs": [
        {
          "output_type": "stream",
          "text": [
            "13130\n"
          ],
          "name": "stdout"
        }
      ]
    },
    {
      "cell_type": "markdown",
      "metadata": {
        "id": "rdeL4xY2IwL3"
      },
      "source": [
        "Task - 2 : Your boss wants you to prepare the payrolls of the workers in your department. You have to convert the amount of dollars into payroll format. In order to help move things along, you have volunteered to write a code that will take a float and return the money in the following format (as dollars and cents).\n",
        "\n",
        "Examples\n",
        "\n",
        "given 3\n",
        "\n",
        "output $3.00\n",
        "\n",
        "given 4.1\n",
        "\n",
        "output $4.10\n",
        "\n",
        "given 29.99\n",
        "\n",
        "output $29.99"
      ]
    },
    {
      "cell_type": "code",
      "metadata": {
        "colab": {
          "base_uri": "https://localhost:8080/"
        },
        "id": "mGvNS8C9Iw4h",
        "outputId": "05cc9744-44b6-43f0-ba14-03008bae19c5"
      },
      "source": [
        "money=float(input())\n",
        "print(f\"${money:.2f}\")"
      ],
      "execution_count": 3,
      "outputs": [
        {
          "output_type": "stream",
          "text": [
            "6\n",
            "$6.00\n"
          ],
          "name": "stdout"
        }
      ]
    },
    {
      "cell_type": "code",
      "metadata": {
        "id": "O-PpeEwRI1ha"
      },
      "source": [
        ""
      ],
      "execution_count": null,
      "outputs": []
    }
  ]
}