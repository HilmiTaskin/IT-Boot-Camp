"""
Write a program that repeatedly prompts a user for integer numbers until the user enters 'done'.
Once 'done' is entered, print out the largest and smallest of the numbers. 
If the user enters anything other than a valid number catch it with a try / 
except and put out an appropriate message and ignore the number. 
Enter 7, 2, bob, 10, and 4 and match the output below.
"""
list1 = []
while True:
    num = input("Enter number: ") 
    if num == "done":
        break
    try:
        inum = int(num)
    except:
        print("invalid input")
        continue
    if int(num) == inum:
        list1.append(inum)
print("Maximum is : ",max(list1))
print("Minimin is :",min(list1))


