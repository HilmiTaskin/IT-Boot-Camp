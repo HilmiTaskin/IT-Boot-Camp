"""Let's write a function that finds the numbers that divide the number without residue."""

def factorization(number):
    factors = []
    for i in range(1,number+1):
        if number % i == 0:
            factors.append(i)
    return factors
print(factorization(236))
[1, 2, 4, 59, 118, 236]

