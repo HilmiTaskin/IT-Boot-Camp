##Sudoku is a brain game based on the fact that the numbers from 1 to 9 should appear once in every 3-3 square.
Let's write a function that examines if there is a texture, and gives a value of False if sudoku is not True.##


def sudoku_mu(sudoku):
    toplam=0
    yen_sudoku=[] 
    for i in sudoku:
        if i[0]==i[1] or i[0]==i[2] or i[1]==i[2]:
            return False
    
    for i in sudoku:
        for k in i:
            yen_sudoku.append(k)
            toplam+=k 
   
            
    if len(set(yen_sudoku))!=9:
        return False
    
    if k<1 or k>9:
        return False
   
    if toplam==45:
        return True
    else:
        print(toplam)
        return False    
    
print(sudoku_mu([[1, 5, 2], [4, 9, 8], [3, 7, 6]]))
