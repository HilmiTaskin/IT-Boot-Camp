### Armstrong Number Calculator###
while True:
    
    number = input("Please Enter The Number To Check Armstrong Or Not: ")
    digits = len(number)
    summ = 0


    if int(number) <= 0 :
         print("Please Enter A Valid Num!!")
    elif not number.isdigit():
            print("Please Enter A Valid Num!!")
    else:
        for i in range(digits):
            summ = summ + int(number[i])**digits
        if summ == int(number):
            print(number,"is ARMSTRONG Number!!")
        else:
            print(number,"is not Armstrong Number.")
            break
                
