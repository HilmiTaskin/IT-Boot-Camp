{
 "cells": [
  {
   "cell_type": "markdown",
   "metadata": {},
   "source": [
    "We have a loud talking parrot. We are in trouble if the parrot is talking and the hour is before 6 or after 21.\n",
    "Define a function taking two parameters (talking and hour) to return True if we are in trouble. The argument to  talking parameter can only be True or False whether it is talking or not. The argument to hour parameter should be the current hour time in the range of 0 to 23."
   ]
  },
  {
   "cell_type": "code",
   "execution_count": 7,
   "metadata": {},
   "outputs": [
    {
     "name": "stdout",
     "output_type": "stream",
     "text": [
      "True\n",
      "False\n",
      "False\n"
     ]
    }
   ],
   "source": [
    "def parrot_trouble(talking, hour):\n",
    "        if talking == True and (hour<7 or hour>20):\n",
    "            return True\n",
    "        else:\n",
    "            return False\n",
    "print(parrot_trouble(True, 5))\n",
    "print(parrot_trouble(True, 8))\n",
    "print(parrot_trouble(False, 22))        "
   ]
  },
  {
   "cell_type": "markdown",
   "metadata": {},
   "source": [
    "Define a function to take a word and return negative meaning.\n",
    "Given a word, return a new word where \"not \" has been added to the front. However, if the word already begins with \"not\", return the string unchanged."
   ]
  },
  {
   "cell_type": "code",
   "execution_count": 11,
   "metadata": {},
   "outputs": [
    {
     "name": "stdout",
     "output_type": "stream",
     "text": [
      "not sugar\n",
      "not x\n",
      "not bad\n"
     ]
    }
   ],
   "source": [
    "def not_string(word):\n",
    "    if \"not\" not in word:\n",
    "        return \"not\"+\" \"+word\n",
    "    else:\n",
    "        return word\n",
    "print(not_string('sugar'))\n",
    "print(not_string('x'))\n",
    "print(not_string('not bad'))"
   ]
  },
  {
   "cell_type": "markdown",
   "metadata": {},
   "source": [
    "Given a non-empty string and an int n, return a new string where the character at index n has been removed. The value of n will be a valid index of a character in the original string (i.e. n will be in the range 0....len(str)-1 inclusive)."
   ]
  },
  {
   "cell_type": "code",
   "execution_count": 27,
   "metadata": {
    "scrolled": true
   },
   "outputs": [
    {
     "name": "stdout",
     "output_type": "stream",
     "text": [
      "ktchen\n",
      "kitcen\n",
      "ktten\n",
      "itten\n",
      "kiten\n"
     ]
    }
   ],
   "source": [
    "def missing_char(str, n):\n",
    "    front = str[:n]   # up to but not including n\n",
    "    back = str[n+1:]  # n+1 through end of string\n",
    "    return front + back\n",
    "\n",
    "print(missing_char('kitchen', 1))\n",
    "print(missing_char('kitchen', 4))\n",
    "print(missing_char('kitten', 1)) #'ktten'\n",
    "print(missing_char('kitten', 0)) # 'itten'\n",
    "print(missing_char('kitten', 2)) #'kittn'"
   ]
  },
  {
   "cell_type": "code",
   "execution_count": 22,
   "metadata": {},
   "outputs": [
    {
     "name": "stdout",
     "output_type": "stream",
     "text": [
      "ktchen\n",
      "kichen\n"
     ]
    }
   ],
   "source": [
    "def missing_char(str, n):\n",
    "    return str.replace(str[n], \"\")\n",
    "\n",
    "print(missing_char('kitchen', 1))\n",
    "print(missing_char('kitchen', 2))"
   ]
  },
  {
   "cell_type": "markdown",
   "metadata": {},
   "source": [
    "Given a string, return a new string where the first and last chars have been exchanged."
   ]
  },
  {
   "cell_type": "code",
   "execution_count": 35,
   "metadata": {},
   "outputs": [
    {
     "name": "stdout",
     "output_type": "stream",
     "text": [
      "ylaruswac\n",
      "ylaruswac\n",
      "a\n",
      "ba\n"
     ]
    }
   ],
   "source": [
    "def front_back(word):\n",
    "    if len(word) > 1:\n",
    "        return word[-1] + word[1:-1] + word[0]\n",
    "    else:\n",
    "        return word\n",
    "    \n",
    "print(front_back('clarusway'))# = ylaruswac\n",
    "print(front_back('a'))# = a\n",
    "print(front_back('ab'))# = ba    "
   ]
  },
  {
   "cell_type": "markdown",
   "metadata": {},
   "source": [
    "Define a function named my_min to find the min of the inputted numbers."
   ]
  },
  {
   "cell_type": "code",
   "execution_count": 38,
   "metadata": {},
   "outputs": [
    {
     "name": "stdout",
     "output_type": "stream",
     "text": [
      "5\n",
      "-9\n",
      "-100\n"
     ]
    }
   ],
   "source": [
    "def my_min(*x):\n",
    "    return min(x)\n",
    "print(my_min(5,6,7)) #5\n",
    "print(my_min(3,8,-9,0,12,1.2)) #-9\n",
    "print(my_min(-100)) #100"
   ]
  },
  {
   "cell_type": "code",
   "execution_count": null,
   "metadata": {},
   "outputs": [],
   "source": []
  },
  {
   "cell_type": "code",
   "execution_count": null,
   "metadata": {},
   "outputs": [],
   "source": []
  },
  {
   "cell_type": "code",
   "execution_count": null,
   "metadata": {},
   "outputs": [],
   "source": []
  }
 ],
 "metadata": {
  "kernelspec": {
   "display_name": "Python 3",
   "language": "python",
   "name": "python3"
  },
  "language_info": {
   "codemirror_mode": {
    "name": "ipython",
    "version": 3
   },
   "file_extension": ".py",
   "mimetype": "text/x-python",
   "name": "python",
   "nbconvert_exporter": "python",
   "pygments_lexer": "ipython3",
   "version": "3.8.5"
  }
 },
 "nbformat": 4,
 "nbformat_minor": 4
}
