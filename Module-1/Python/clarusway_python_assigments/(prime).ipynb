print("Please Enter A Number To Check Its Prime Or Not ")
num = int(input("Please Enter A Number : "))
Flag  = False 
if num > 1:
    for i in range(2,num):
        if num%i==0:
            Flag = True
            break
if Flag:
    print(num,"is not a prime number.")
else:
    print(num,"is prime number.")
