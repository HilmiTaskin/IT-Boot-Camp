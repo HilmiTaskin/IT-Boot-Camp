sentence = input("Please Enter The Sentence: ")
szlk = {}
for i in sentence:
    if i not in szlk:
        szlk[i] = 1
    elif i in szlk:
        szlk[i]+=1
print(szlk)   